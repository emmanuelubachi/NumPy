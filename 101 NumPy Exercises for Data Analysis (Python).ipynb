{
 "cells": [
  {
   "cell_type": "markdown",
   "metadata": {},
   "source": [
    "# 101 NumPy Exercises for Data Analysis (Python)\n",
    "#### Questions by Selva Prabhakaran\n",
    " The goal of the numpy exercises is to serve as a reference as well as to get you to apply numpy beyond the basics. The questions are of 4 levels of difficulties with L1 being the easiest to L4 being the hardest."
   ]
  },
  {
   "cell_type": "markdown",
   "metadata": {},
   "source": [
    "### Difficulty Level: L1"
   ]
  },
  {
   "cell_type": "code",
   "execution_count": 1,
   "metadata": {},
   "outputs": [
    {
     "data": {
      "text/plain": [
       "'1.19.2'"
      ]
     },
     "execution_count": 1,
     "metadata": {},
     "output_type": "execute_result"
    }
   ],
   "source": [
    "# Q.1 Import numpy as np and print the version number.\n",
    "import numpy as np\n",
    "np.__version__"
   ]
  },
  {
   "cell_type": "code",
   "execution_count": 2,
   "metadata": {},
   "outputs": [
    {
     "data": {
      "text/plain": [
       "array([0, 1, 2, 3, 4, 5, 6, 7, 8, 9])"
      ]
     },
     "execution_count": 2,
     "metadata": {},
     "output_type": "execute_result"
    }
   ],
   "source": [
    "# Q.2 Create a 1D array of numbers from 0 to 9\n",
    "np.arange(0,10,1)\n",
    "\n",
    "# ans np.arange(10)"
   ]
  },
  {
   "cell_type": "code",
   "execution_count": 10,
   "metadata": {},
   "outputs": [
    {
     "data": {
      "text/plain": [
       "array([[ True,  True,  True],\n",
       "       [ True,  True,  True],\n",
       "       [ True,  True,  True]])"
      ]
     },
     "execution_count": 10,
     "metadata": {},
     "output_type": "execute_result"
    }
   ],
   "source": [
    "# Q.3 Create a 3×3 numpy array of all True’s\n",
    "np.full((3,3), True, dtype=bool)"
   ]
  },
  {
   "cell_type": "code",
   "execution_count": 11,
   "metadata": {},
   "outputs": [
    {
     "data": {
      "text/plain": [
       "array([1, 3, 5, 7, 9])"
      ]
     },
     "execution_count": 11,
     "metadata": {},
     "output_type": "execute_result"
    }
   ],
   "source": [
    "# Q.4 Extract all odd numbers from arr\n",
    "arr = np.array([0, 1, 2, 3, 4, 5, 6, 7, 8, 9])\n",
    "\n",
    "arr[arr % 2 == 1]\n"
   ]
  },
  {
   "cell_type": "code",
   "execution_count": 18,
   "metadata": {},
   "outputs": [
    {
     "data": {
      "text/plain": [
       "array([ 0, -1,  2, -1,  4, -1,  6, -1,  8, -1])"
      ]
     },
     "execution_count": 18,
     "metadata": {},
     "output_type": "execute_result"
    }
   ],
   "source": [
    "# Q.5 Replace all odd numbers in arr with -1\n",
    "arr = np.array([0, 1, 2, 3, 4, 5, 6, 7, 8, 9])\n",
    "\n",
    "arr[arr % 2 == 1 ] = -1\n",
    "arr"
   ]
  },
  {
   "cell_type": "code",
   "execution_count": 39,
   "metadata": {},
   "outputs": [
    {
     "name": "stdout",
     "output_type": "stream",
     "text": [
      "[ 0 -1  2 -1  4 -1  6 -1  8 -1]\n"
     ]
    },
    {
     "data": {
      "text/plain": [
       "array([0, 1, 2, 3, 4, 5, 6, 7, 8, 9])"
      ]
     },
     "execution_count": 39,
     "metadata": {},
     "output_type": "execute_result"
    }
   ],
   "source": [
    "# Q.6 Replace all odd numbers in arr with -1 without changing arr\n",
    "arr = np.array([0, 1, 2, 3, 4, 5, 6, 7, 8, 9])\n",
    "\n",
    "out = np.where((arr % 2 == 1),-1,arr)\n",
    "print(out)\n",
    "arr"
   ]
  },
  {
   "cell_type": "code",
   "execution_count": 43,
   "metadata": {},
   "outputs": [
    {
     "data": {
      "text/plain": [
       "array([[0, 1, 2, 3, 4],\n",
       "       [5, 6, 7, 8, 9]])"
      ]
     },
     "execution_count": 43,
     "metadata": {},
     "output_type": "execute_result"
    }
   ],
   "source": [
    "# Q.7 Convert a 1D array to a 2D array with 2 rows\n",
    "\n",
    "np.arange(10).reshape(2,-1)  # Setting to -1 automatically decides the number of cols"
   ]
  },
  {
   "cell_type": "markdown",
   "metadata": {},
   "source": [
    "### Difficulty Level: L2"
   ]
  },
  {
   "cell_type": "code",
   "execution_count": 49,
   "metadata": {},
   "outputs": [
    {
     "data": {
      "text/plain": [
       "array([[0, 1, 2, 3, 4, 1, 1, 1, 1, 1],\n",
       "       [5, 6, 7, 8, 9, 1, 1, 1, 1, 1]])"
      ]
     },
     "execution_count": 49,
     "metadata": {},
     "output_type": "execute_result"
    }
   ],
   "source": [
    "# Q. Stack the arrays a and b horizontally.\n",
    "a = np.arange(10).reshape(2,-1)\n",
    "b = np.repeat(1, 10).reshape(2,-1)\n",
    "np.hstack([a,b])\n"
   ]
  },
  {
   "cell_type": "code",
   "execution_count": 62,
   "metadata": {},
   "outputs": [
    {
     "data": {
      "text/plain": [
       "array([1, 1, 1, 2, 2, 2, 3, 3, 3])"
      ]
     },
     "execution_count": 62,
     "metadata": {},
     "output_type": "execute_result"
    }
   ],
   "source": [
    "#Q. Create the following pattern without hardcoding. Use only numpy functions and the below input array a.\n",
    "\n",
    "a = np.array([1,2,3]) \n",
    "np.r_[np.repeat(a, 3), np.tile(a, 3)] \n",
    "# np.r_ (is used to concatenate any number of array slice along row (first) axis)"
   ]
  },
  {
   "cell_type": "code",
   "execution_count": 67,
   "metadata": {},
   "outputs": [
    {
     "data": {
      "text/plain": [
       "array([2, 4])"
      ]
     },
     "execution_count": 67,
     "metadata": {},
     "output_type": "execute_result"
    }
   ],
   "source": [
    "#Q. Get the common items between a and b\n",
    "a = np.array([1,2,3,2,3,4,3,4,5,6])\n",
    "b = np.array([7,2,10,2,7,4,9,4,9,8])\n",
    "\n",
    "np.intersect1d(a,b)\n"
   ]
  },
  {
   "cell_type": "code",
   "execution_count": 68,
   "metadata": {},
   "outputs": [
    {
     "data": {
      "text/plain": [
       "array([1, 2, 3, 4])"
      ]
     },
     "execution_count": 68,
     "metadata": {},
     "output_type": "execute_result"
    }
   ],
   "source": [
    "# Q. From array a remove all items present in array b\n",
    "a = np.array([1,2,3,4,5])\n",
    "b = np.array([5,6,7,8,9])\n",
    "\n",
    "np.setdiff1d(a,b) # np.setdiff1d From 'a' remove all of 'b'"
   ]
  },
  {
   "cell_type": "code",
   "execution_count": 69,
   "metadata": {},
   "outputs": [
    {
     "data": {
      "text/plain": [
       "(array([1, 3, 5, 7], dtype=int64),)"
      ]
     },
     "execution_count": 69,
     "metadata": {},
     "output_type": "execute_result"
    }
   ],
   "source": [
    "# Q. Get the positions where elements of a and b match\n",
    "a = np.array([1,2,3,2,3,4,3,4,5,6])\n",
    "b = np.array([7,2,10,2,7,4,9,4,9,8])\n",
    "\n",
    "np.where(a == b)\n"
   ]
  },
  {
   "cell_type": "code",
   "execution_count": 78,
   "metadata": {},
   "outputs": [
    {
     "name": "stdout",
     "output_type": "stream",
     "text": [
      "[ 6  9 10]\n",
      "[ 6  9 10]\n"
     ]
    },
    {
     "data": {
      "text/plain": [
       "array([ 6,  9, 10])"
      ]
     },
     "execution_count": 78,
     "metadata": {},
     "output_type": "execute_result"
    }
   ],
   "source": [
    "# Q. Get all items between 5 and 10 from a.\n",
    "a = np.array([2, 6, 1, 9, 10, 3, 27])\n",
    "\n",
    "index = np.where((a >=5) & (a <= 10))\n",
    "print(a[index])\n",
    "# or \n",
    "index2 = np.where(np.logical_and(a>=5, a<=10))\n",
    "print(a[index2])\n",
    "# or \n",
    "a[(a >=5) & (a <= 10)]"
   ]
  },
  {
   "cell_type": "code",
   "execution_count": 83,
   "metadata": {},
   "outputs": [],
   "source": [
    "# Q.15 Convert the function maxx that works on two scalars, to work on two arrays.\n",
    "\n",
    "# def maxx(x, y):\n",
    "#     \"\"\"Get the maximum of two items\"\"\"\n",
    "#     if [x] >= [y]:\n",
    "#         return [x]\n",
    "#     else:\n",
    "#         return [y]\n",
    "\n",
    "# maxx([1, 5],[2, 6])"
   ]
  },
  {
   "cell_type": "code",
   "execution_count": 92,
   "metadata": {},
   "outputs": [
    {
     "name": "stdout",
     "output_type": "stream",
     "text": [
      "[[0 1 2]\n",
      " [3 4 5]\n",
      " [6 7 8]]\n"
     ]
    },
    {
     "data": {
      "text/plain": [
       "array([[1, 0, 2],\n",
       "       [4, 3, 5],\n",
       "       [7, 6, 8]])"
      ]
     },
     "execution_count": 92,
     "metadata": {},
     "output_type": "execute_result"
    }
   ],
   "source": [
    "#Q.16 Swap columns 1 and 2 in the array arr.\n",
    "arr = np.arange(9).reshape(3,3)\n",
    "print(arr)\n",
    "arr[:, [1,0,2]]"
   ]
  },
  {
   "cell_type": "code",
   "execution_count": 99,
   "metadata": {},
   "outputs": [
    {
     "name": "stdout",
     "output_type": "stream",
     "text": [
      "[[0 1 2]\n",
      " [3 4 5]\n",
      " [6 7 8]]\n",
      "[[3 4 5]\n",
      " [0 1 2]\n",
      " [6 7 8]]\n"
     ]
    }
   ],
   "source": [
    "# Q.17 Swap rows 1 and 2 in the array arr:\n",
    "arr = np.arange(9).reshape(3,3)\n",
    "print(arr)\n",
    "\n",
    "print(arr[[1,0,2],:])"
   ]
  },
  {
   "cell_type": "code",
   "execution_count": 98,
   "metadata": {},
   "outputs": [
    {
     "name": "stdout",
     "output_type": "stream",
     "text": [
      "[[0 1 2]\n",
      " [3 4 5]\n",
      " [6 7 8]]\n",
      "[[6 7 8]\n",
      " [3 4 5]\n",
      " [0 1 2]]\n"
     ]
    }
   ],
   "source": [
    "# Q.18 Reverse the rows of a 2D array arr.\n",
    "arr = np.arange(9).reshape(3,3)\n",
    "print(arr)\n",
    " \n",
    "print(arr[::-1])"
   ]
  },
  {
   "cell_type": "code",
   "execution_count": 107,
   "metadata": {},
   "outputs": [
    {
     "name": "stdout",
     "output_type": "stream",
     "text": [
      "[[0 1 2]\n",
      " [3 4 5]\n",
      " [6 7 8]]\n",
      "[[2 1 0]\n",
      " [5 4 3]\n",
      " [8 7 6]]\n"
     ]
    }
   ],
   "source": [
    "#Q.19 Reverse the columns of a 2D array arr.\n",
    "arr = np.arange(9).reshape(3,3)\n",
    "print(arr)\n",
    "print(arr[:,::-1])"
   ]
  },
  {
   "cell_type": "code",
   "execution_count": 112,
   "metadata": {},
   "outputs": [
    {
     "data": {
      "text/plain": [
       "array([[5.87308019, 7.96507042, 8.82883636],\n",
       "       [6.47898794, 7.88858519, 7.19858142],\n",
       "       [8.50966282, 9.9861928 , 8.5260474 ],\n",
       "       [7.99857709, 6.19794513, 7.73323662],\n",
       "       [7.56552631, 6.00178931, 7.40978388]])"
      ]
     },
     "execution_count": 112,
     "metadata": {},
     "output_type": "execute_result"
    }
   ],
   "source": [
    "#Q.20 Create a 2D array of shape 5x3 to contain random decimal numbers between 5 and 10.\n",
    "\n",
    "np.random.uniform(5,10, size=(5,3))"
   ]
  },
  {
   "cell_type": "markdown",
   "metadata": {},
   "source": [
    "### Difficulty Level: L1"
   ]
  },
  {
   "cell_type": "code",
   "execution_count": 127,
   "metadata": {},
   "outputs": [
    {
     "name": "stdout",
     "output_type": "stream",
     "text": [
      "[[0.49  0.07  0.962]\n",
      " [0.056 0.232 0.514]\n",
      " [0.404 0.931 0.754]\n",
      " [0.776 0.517 0.366]]\n"
     ]
    },
    {
     "data": {
      "text/plain": [
       "array([[0.49 , 0.07 , 0.962],\n",
       "       [0.056, 0.232, 0.514],\n",
       "       [0.404, 0.931, 0.754],\n",
       "       [0.776, 0.517, 0.366],\n",
       "       [0.773, 0.809, 0.388]])"
      ]
     },
     "execution_count": 127,
     "metadata": {},
     "output_type": "execute_result"
    }
   ],
   "source": [
    "#Q.21 Print or show only 3 decimal places of the numpy array rand_arr.\n",
    "rand_arr = np.random.random((5,3))\n",
    "np.set_printoptions(precision=3)\n",
    "print(rand_arr[:4])\n",
    "# OR\n",
    "np.round(rand_arr,3)"
   ]
  },
  {
   "cell_type": "code",
   "execution_count": 154,
   "metadata": {},
   "outputs": [
    {
     "data": {
      "text/plain": [
       "array([[0.000543, 0.000278, 0.000425],\n",
       "       [0.000845, 0.000005, 0.000122],\n",
       "       [0.000671, 0.000826, 0.000137]])"
      ]
     },
     "execution_count": 154,
     "metadata": {},
     "output_type": "execute_result"
    }
   ],
   "source": [
    "# Q.22 Pretty print rand_arr by suppressing the scientific notation (like 1e10)\n",
    "# Create the random array\n",
    "np.random.seed(100)\n",
    "rand_arr = np.random.random([3,3])/1e3\n",
    "# rand_arr\n",
    "\n",
    "np.set_printoptions(suppress=True, precision=6)\n",
    "rand_arr"
   ]
  },
  {
   "cell_type": "code",
   "execution_count": 156,
   "metadata": {},
   "outputs": [
    {
     "data": {
      "text/plain": [
       "array([ 0,  1,  2, ..., 12, 13, 14])"
      ]
     },
     "execution_count": 156,
     "metadata": {},
     "output_type": "execute_result"
    }
   ],
   "source": [
    "#Q.23 Limit the number of items printed in python numpy array a to a maximum of 6 elements.\n",
    "a = np.arange(15)\n",
    "np.set_printoptions(threshold=6)\n",
    "a"
   ]
  },
  {
   "cell_type": "code",
   "execution_count": 177,
   "metadata": {},
   "outputs": [
    {
     "data": {
      "text/plain": [
       "array([ 0,  1,  2,  3,  4,  5,  6,  7,  8,  9, 10, 11, 12, 13, 14])"
      ]
     },
     "execution_count": 177,
     "metadata": {},
     "output_type": "execute_result"
    }
   ],
   "source": [
    "#Q.24 Print the full numpy array a without truncating.\n",
    "np.set_printoptions(threshold=6)\n",
    "a = np.arange(15)\n",
    "a\n",
    "np.set_printoptions(threshold=np.sys.maxsize)\n",
    "a"
   ]
  },
  {
   "cell_type": "markdown",
   "metadata": {},
   "source": [
    "### Difficulty Level: L2"
   ]
  },
  {
   "cell_type": "code",
   "execution_count": 192,
   "metadata": {},
   "outputs": [
    {
     "data": {
      "text/plain": [
       "array([[b'5.1', b'3.5', b'1.4', b'0.2', b'Iris-setosa'],\n",
       "       [b'4.9', b'3.0', b'1.4', b'0.2', b'Iris-setosa'],\n",
       "       [b'4.7', b'3.2', b'1.3', b'0.2', b'Iris-setosa']], dtype=object)"
      ]
     },
     "execution_count": 192,
     "metadata": {},
     "output_type": "execute_result"
    }
   ],
   "source": [
    "# Q.25 Import the iris dataset keeping the text intact.\n",
    "\n",
    "iris = np.genfromtxt('iris.data', delimiter=',', dtype='object')\n",
    "names = ('sepallength', 'sepalwidth', 'petallength', 'petalwidth', 'species')\n",
    "iris[:3]"
   ]
  },
  {
   "cell_type": "code",
   "execution_count": 204,
   "metadata": {},
   "outputs": [
    {
     "name": "stdout",
     "output_type": "stream",
     "text": [
      "(150, 5)\n"
     ]
    },
    {
     "data": {
      "text/plain": [
       "array([b'Iris-setosa', b'Iris-setosa', b'Iris-setosa', b'Iris-setosa',\n",
       "       b'Iris-setosa'], dtype='|S15')"
      ]
     },
     "execution_count": 204,
     "metadata": {},
     "output_type": "execute_result"
    }
   ],
   "source": [
    "# Q.26 Extract the text column species from the 1D iris imported in previous question.\n",
    "\n",
    "iris_1d = np.genfromtxt('iris.data', delimiter=',', dtype=object)\n",
    "print(iris_1d.shape)\n",
    "species = np.array([row[4] for row in iris_1d])\n",
    "species[:5]"
   ]
  },
  {
   "cell_type": "code",
   "execution_count": 209,
   "metadata": {},
   "outputs": [
    {
     "data": {
      "text/plain": [
       "array([[5.1, 3.5, 1.4, 0.2],\n",
       "       [4.9, 3. , 1.4, 0.2],\n",
       "       [4.7, 3.2, 1.3, 0.2],\n",
       "       [4.6, 3.1, 1.5, 0.2],\n",
       "       [5. , 3.6, 1.4, 0.2]])"
      ]
     },
     "execution_count": 209,
     "metadata": {},
     "output_type": "execute_result"
    }
   ],
   "source": [
    "#Q.27 Convert the 1D iris to 2D array iris_2d by omitting the species text field.\n",
    "iris_2d = np.genfromtxt('iris.data', delimiter=',', dtype='float', usecols=(0,1,2,3))\n",
    "iris_2d[:5]"
   ]
  },
  {
   "cell_type": "code",
   "execution_count": 217,
   "metadata": {},
   "outputs": [
    {
     "name": "stdout",
     "output_type": "stream",
     "text": [
      "5.843333333333334\n",
      "5.8\n",
      "0.8253012917851409\n"
     ]
    }
   ],
   "source": [
    "# Q.28 Find the mean, median, standard deviation of iris's sepallength (1st column)\n",
    "sepallength = np.genfromtxt('iris.data', delimiter=',', dtype='float', usecols=[0])\n",
    "mean = np.mean(sepallength)\n",
    "median = np.median(sepallength)\n",
    "std = np.std(sepallength)\n",
    "\n",
    "print(mean)\n",
    "print(median)\n",
    "print(std)"
   ]
  },
  {
   "cell_type": "code",
   "execution_count": 220,
   "metadata": {},
   "outputs": [
    {
     "name": "stdout",
     "output_type": "stream",
     "text": [
      "[0.222222 0.166667 0.111111 0.083333 0.194444 0.305556 0.083333 0.194444\n",
      " 0.027778 0.166667 0.305556 0.138889 0.138889 0.       0.416667 0.388889\n",
      " 0.305556 0.222222 0.388889 0.222222 0.305556 0.222222 0.083333 0.222222\n",
      " 0.138889 0.194444 0.194444 0.25     0.25     0.111111 0.138889 0.305556\n",
      " 0.25     0.333333 0.166667 0.194444 0.333333 0.166667 0.027778 0.222222\n",
      " 0.194444 0.055556 0.027778 0.194444 0.222222 0.138889 0.222222 0.083333\n",
      " 0.277778 0.194444 0.75     0.583333 0.722222 0.333333 0.611111 0.388889\n",
      " 0.555556 0.166667 0.638889 0.25     0.194444 0.444444 0.472222 0.5\n",
      " 0.361111 0.666667 0.361111 0.416667 0.527778 0.361111 0.444444 0.5\n",
      " 0.555556 0.5      0.583333 0.638889 0.694444 0.666667 0.472222 0.388889\n",
      " 0.333333 0.333333 0.416667 0.472222 0.305556 0.472222 0.666667 0.555556\n",
      " 0.361111 0.333333 0.333333 0.5      0.416667 0.194444 0.361111 0.388889\n",
      " 0.388889 0.527778 0.222222 0.388889 0.555556 0.416667 0.777778 0.555556\n",
      " 0.611111 0.916667 0.166667 0.833333 0.666667 0.805556 0.611111 0.583333\n",
      " 0.694444 0.388889 0.416667 0.583333 0.611111 0.944444 0.944444 0.472222\n",
      " 0.722222 0.361111 0.944444 0.555556 0.666667 0.805556 0.527778 0.5\n",
      " 0.583333 0.805556 0.861111 1.       0.583333 0.555556 0.5      0.944444\n",
      " 0.555556 0.583333 0.472222 0.722222 0.666667 0.722222 0.416667 0.694444\n",
      " 0.666667 0.666667 0.555556 0.611111 0.527778 0.444444]\n",
      "[0.222222 0.166667 0.111111 0.083333 0.194444 0.305556 0.083333 0.194444\n",
      " 0.027778 0.166667 0.305556 0.138889 0.138889 0.       0.416667 0.388889\n",
      " 0.305556 0.222222 0.388889 0.222222 0.305556 0.222222 0.083333 0.222222\n",
      " 0.138889 0.194444 0.194444 0.25     0.25     0.111111 0.138889 0.305556\n",
      " 0.25     0.333333 0.166667 0.194444 0.333333 0.166667 0.027778 0.222222\n",
      " 0.194444 0.055556 0.027778 0.194444 0.222222 0.138889 0.222222 0.083333\n",
      " 0.277778 0.194444 0.75     0.583333 0.722222 0.333333 0.611111 0.388889\n",
      " 0.555556 0.166667 0.638889 0.25     0.194444 0.444444 0.472222 0.5\n",
      " 0.361111 0.666667 0.361111 0.416667 0.527778 0.361111 0.444444 0.5\n",
      " 0.555556 0.5      0.583333 0.638889 0.694444 0.666667 0.472222 0.388889\n",
      " 0.333333 0.333333 0.416667 0.472222 0.305556 0.472222 0.666667 0.555556\n",
      " 0.361111 0.333333 0.333333 0.5      0.416667 0.194444 0.361111 0.388889\n",
      " 0.388889 0.527778 0.222222 0.388889 0.555556 0.416667 0.777778 0.555556\n",
      " 0.611111 0.916667 0.166667 0.833333 0.666667 0.805556 0.611111 0.583333\n",
      " 0.694444 0.388889 0.416667 0.583333 0.611111 0.944444 0.944444 0.472222\n",
      " 0.722222 0.361111 0.944444 0.555556 0.666667 0.805556 0.527778 0.5\n",
      " 0.583333 0.805556 0.861111 1.       0.583333 0.555556 0.5      0.944444\n",
      " 0.555556 0.583333 0.472222 0.722222 0.666667 0.722222 0.416667 0.694444\n",
      " 0.666667 0.666667 0.555556 0.611111 0.527778 0.444444]\n"
     ]
    }
   ],
   "source": [
    "# Q.29 Create a normalized form of iris's sepallength whose values range exactly between \n",
    "# 0 and 1 so that the minimum has value 0 and maximum has value 1.\n",
    "Smax, Smin = sepallength.max(), sepallength.min()\n",
    "S = (sepallength - Smin)/(Smax - Smin)\n",
    "print(S)\n",
    "# OR\n",
    "s = (sepallength - Smin)/sepallength.ptp()\n",
    "print(s)\n"
   ]
  },
  {
   "cell_type": "markdown",
   "metadata": {},
   "source": [
    "# Difficulty Level: L3"
   ]
  },
  {
   "cell_type": "code",
   "execution_count": null,
   "metadata": {},
   "outputs": [],
   "source": [
    "# Q.30 Compute the softmax score of sepallength.\n"
   ]
  },
  {
   "cell_type": "code",
   "execution_count": null,
   "metadata": {},
   "outputs": [],
   "source": []
  }
 ],
 "metadata": {
  "kernelspec": {
   "display_name": "Python 3",
   "language": "python",
   "name": "python3"
  },
  "language_info": {
   "codemirror_mode": {
    "name": "ipython",
    "version": 3
   },
   "file_extension": ".py",
   "mimetype": "text/x-python",
   "name": "python",
   "nbconvert_exporter": "python",
   "pygments_lexer": "ipython3",
   "version": "3.8.5"
  }
 },
 "nbformat": 4,
 "nbformat_minor": 4
}
